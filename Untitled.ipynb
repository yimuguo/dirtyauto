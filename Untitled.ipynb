{
 "cells": [
  {
   "cell_type": "code",
   "execution_count": 34,
   "metadata": {
    "collapsed": true
   },
   "outputs": [],
   "source": [
    "from bs4 import BeautifulSoup\n",
    "import requests\n",
    "from dirtyauto import log\n",
    "\n",
    "\n",
    "class DigikeyPartInfo(object):\n",
    "\n",
    "    \"\"\"For parsing part info on digikey\"\"\"\n",
    "\n",
    "    def __init__(self, part_list):\n",
    "        \"\"\"\n",
    "        :param partn: The stadard part number\n",
    "        \"\"\"\n",
    "        self.log = log(self.__class__.__name__)\n",
    "        self._part_list = part_list\n",
    "        self.soup = BeautifulSoup(\"\", 'html.parser')\n",
    "\n",
    "    @property\n",
    "    def part_list(self):\n",
    "        print(\"get part list\")\n",
    "        return self._part_list\n",
    "\n",
    "    @part_list.setter\n",
    "    def part_list(self, value):\n",
    "        print(\"set part list\")\n",
    "        if not isinstance(value, list):\n",
    "            if isinstance(value, str):\n",
    "                self.log.info(\"Input is not a list, \\\n",
    "                    converting string to list\")\n",
    "                self._part_list = [value]\n",
    "                return\n",
    "            elif isinstance(value, int):\n",
    "                self.log.info(\"Input is not a list, \\\n",
    "                    converting int to list\")\n",
    "                self._part_list = [str(value)]\n",
    "            else:\n",
    "                self.log.error(\"Input is not a list,\\\n",
    "                    cannot process \" + str(type(value)))\n",
    "        else:\n",
    "            self._part_list = value"
   ]
  },
  {
   "cell_type": "code",
   "execution_count": 4,
   "metadata": {
    "collapsed": true
   },
   "outputs": [],
   "source": [
    "class Celsius:\n",
    "    def __init__(self, temperature = 0):\n",
    "        self._temperature = temperature\n",
    "\n",
    "    def to_fahrenheit(self):\n",
    "        return (self.temperature * 1.8) + 32\n",
    "\n",
    "    @property\n",
    "    def temperature(self):\n",
    "        print(\"Getting value\")\n",
    "        return self._temperature\n",
    "\n",
    "    @temperature.setter\n",
    "    def temperature(self, value):\n",
    "        if value < -273:\n",
    "            raise ValueError(\"Temperature below -273 is not possible\")\n",
    "        print(\"Setting value\")\n",
    "        self._temperature = value"
   ]
  },
  {
   "cell_type": "code",
   "execution_count": 5,
   "metadata": {
    "collapsed": true
   },
   "outputs": [],
   "source": [
    "mytemp = Celsius('23')"
   ]
  },
  {
   "cell_type": "code",
   "execution_count": 6,
   "metadata": {
    "collapsed": false
   },
   "outputs": [
    {
     "data": {
      "text/plain": [
       "'23'"
      ]
     },
     "execution_count": 6,
     "metadata": {},
     "output_type": "execute_result"
    }
   ],
   "source": [
    "mytemp._temperature"
   ]
  },
  {
   "cell_type": "code",
   "execution_count": 7,
   "metadata": {
    "collapsed": false
   },
   "outputs": [
    {
     "name": "stdout",
     "output_type": "stream",
     "text": [
      "Setting value\n"
     ]
    }
   ],
   "source": [
    "mytemp.temperature = -14"
   ]
  },
  {
   "cell_type": "code",
   "execution_count": 35,
   "metadata": {
    "collapsed": false
   },
   "outputs": [],
   "source": [
    "test = DigikeyPartInfo('5PB1102')"
   ]
  },
  {
   "cell_type": "code",
   "execution_count": 36,
   "metadata": {
    "collapsed": false
   },
   "outputs": [
    {
     "name": "stdout",
     "output_type": "stream",
     "text": [
      "set part list\n",
      "2017-05-29 23:38:19,035 [INFO] [DigikeyPartInfo] Input is not a list,                     converting string to list\n"
     ]
    }
   ],
   "source": [
    "test.part_list = '5PB'"
   ]
  },
  {
   "cell_type": "code",
   "execution_count": 37,
   "metadata": {
    "collapsed": false
   },
   "outputs": [
    {
     "name": "stdout",
     "output_type": "stream",
     "text": [
      "get part list\n"
     ]
    },
    {
     "data": {
      "text/plain": [
       "['5PB']"
      ]
     },
     "execution_count": 37,
     "metadata": {},
     "output_type": "execute_result"
    }
   ],
   "source": [
    "test.part_list"
   ]
  },
  {
   "cell_type": "code",
   "execution_count": null,
   "metadata": {
    "collapsed": true
   },
   "outputs": [],
   "source": []
  }
 ],
 "metadata": {
  "kernelspec": {
   "display_name": "Python 3",
   "language": "python",
   "name": "python3"
  },
  "language_info": {
   "codemirror_mode": {
    "name": "ipython",
    "version": 3
   },
   "file_extension": ".py",
   "mimetype": "text/x-python",
   "name": "python",
   "nbconvert_exporter": "python",
   "pygments_lexer": "ipython3",
   "version": "3.5.2"
  }
 },
 "nbformat": 4,
 "nbformat_minor": 2
}
